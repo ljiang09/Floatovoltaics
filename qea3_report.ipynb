{
 "cells": [
  {
   "cell_type": "code",
   "execution_count": null,
   "metadata": {},
   "outputs": [],
   "source": []
  },
  {
   "cell_type": "markdown",
   "metadata": {},
   "source": [
    "# Background\n",
    "In just a paragraph or two, introduce your project. Example questions to consider: What is the current\n",
    "situation with Lake Mead? What is the proposed change? Why does it matter? This section should include\n",
    "citations in the text to at least two outside sources of information.\n",
    "\n",
    "Potential sources (cite later/after use):\n",
    "https://earth.org/lake-mead-and-colorado-river-basin-water-shortage/#:~:text=Formal%20Water%20Shortage%20Declared%20for,of%20natural%20and%20anthropogenic%20activities.\n",
    "\n",
    "https://agupubs.onlinelibrary.wiley.com/doi/full/10.1029/2007WR006704\n",
    "\n",
    "\n",
    "The Colorado River, which originates in the Rocky mountains \n",
    "\n",
    "### Question\n",
    "How does the cost-effectiveness of floatovoltaics vs shade balls compare?\n",
    "\n",
    "Two proposed solutions to the Lake Mead water crisis are floatovoltaics - solar panels that would float on the surface of the lake - and shade balls - plastic spheres that block sunlight in order to reduce evaporation. \n",
    "\n",
    "The goal of this project is to compare the ratio of effectiveness at preventing evaporation to the cost of the proposed solution, which would allow us to determine which solution is worth putting time and money into in order to minimize the ongoing water crisis."
   ]
  },
  {
   "cell_type": "markdown",
   "metadata": {},
   "source": [
    "# Modeling\n",
    "\n",
    "### Schematic\n",
    "\n",
    "\n",
    "• Using a clear, diagrammatic way of documenting fluid flows, create a captioned figure illustrating\n",
    "conservation of water mass for Lake Mead. Explain.\n",
    "\n",
    "### Equations\n",
    "• Write the system of equations, including at least one ODE, that will be used to solve for lake volume\n",
    "and/or height as a function of time. Explain these equations in words, including why they are\n",
    "appropriate for modeling the system of interest. Make sure at least one of the non-differential terms\n",
    "in the primary ODE is not a constant1\n",
    "\n",
    "[insert variable defenitions and values]\n",
    "\n",
    "\n",
    "\n",
    "\n",
    "• Discuss the primary ODE for your system. What type of ODE is it? What type of behavior do you\n",
    "expect from an ODE like this?\n",
    "• State how you will solve the system of equations, including any initial values.\n",
    "\n",
    "\n",
    "### Assumptions\n",
    "When developing this model, we made a few key assumptions & acknowledged that certain factors are outside of our control:\n",
    "1. The input rate of water from the Colorado River is constant\n",
    "2. The output rate of water from Lake Mead is constant\n",
    "3. The shape of the lake is a triangular prism\n",
    "\n",
    "[justify each assumption]"
   ]
  },
  {
   "cell_type": "markdown",
   "metadata": {},
   "source": [
    "# Validation\n",
    "Using data and trends for Lake Mead, show that your baseline lake model (without floatovoltaics) is reasonable.\n",
    "This will lend credibility to non-baseline predictions."
   ]
  },
  {
   "cell_type": "markdown",
   "metadata": {},
   "source": [
    "# Results & Discussion\n",
    "Show, explain, and discuss the results of your model. Include, at the minimum, a plot of lake volume and/or\n",
    "height over time with and without floatovoltaics. Make a recommendation based on your findings and\n",
    "discuss the potential impacts of the recommended path. You may optionally choose to add conclusion section\n",
    "summarizing findings.\n",
    "\n",
    "The implementation of the project has three sections - the MVP and two iterations. \n",
    "\n",
    "### MVP \n",
    "The MVP assumes that the input and the output of the Colorado River are constant and contains basic math for the effect of having solar panels covering the lake.\n",
    "\n"
   ]
  },
  {
   "cell_type": "code",
   "execution_count": null,
   "metadata": {},
   "outputs": [],
   "source": [
    "# MVP Plots"
   ]
  },
  {
   "cell_type": "markdown",
   "metadata": {},
   "source": [
    "### Iteration 1 - Cost Effectiveness Analsysis\n",
    "The first iteration models the input as the flow rate of the Colorado River and the output as the dam ODE. Additionally, the effect of using shade balls as opposed to solar panels covering the lake is included."
   ]
  },
  {
   "cell_type": "code",
   "execution_count": null,
   "metadata": {},
   "outputs": [],
   "source": [
    "# Iteration 1 plots"
   ]
  },
  {
   "cell_type": "markdown",
   "metadata": {},
   "source": [
    "### Iteration 2 - Seasonal Changes\n",
    "The second iteration of the model implements support for changing seasons in order to account for changes in water level at different points in time during the year."
   ]
  },
  {
   "cell_type": "code",
   "execution_count": null,
   "metadata": {},
   "outputs": [],
   "source": [
    "# Iteration 2 Plots"
   ]
  },
  {
   "cell_type": "markdown",
   "metadata": {},
   "source": [
    "# References\n"
   ]
  }
 ],
 "metadata": {
  "kernelspec": {
   "display_name": "Python 3.7.7 32-bit",
   "language": "python",
   "name": "python3"
  },
  "language_info": {
   "name": "python",
   "version": "3.7.7"
  },
  "orig_nbformat": 4,
  "vscode": {
   "interpreter": {
    "hash": "90a48d03af91d253afc4aaf5740328336ae7f626fcc628f7ed61b875ead6e8bf"
   }
  }
 },
 "nbformat": 4,
 "nbformat_minor": 2
}
